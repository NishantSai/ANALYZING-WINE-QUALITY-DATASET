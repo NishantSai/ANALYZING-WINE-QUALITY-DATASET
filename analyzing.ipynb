{
 "cells": [
  {
   "cell_type": "code",
   "execution_count": 1,
   "metadata": {},
   "outputs": [],
   "source": [
    "import pandas as pd\n",
    "import numpy as np\n",
    "from scipy.stats import skew"
   ]
  },
  {
   "cell_type": "code",
   "execution_count": 2,
   "metadata": {},
   "outputs": [],
   "source": [
    "data= pd.read_csv(\"winequality.csv\")"
   ]
  },
  {
   "cell_type": "code",
   "execution_count": 3,
   "metadata": {},
   "outputs": [
    {
     "data": {
      "text/html": [
       "<div>\n",
       "<style scoped>\n",
       "    .dataframe tbody tr th:only-of-type {\n",
       "        vertical-align: middle;\n",
       "    }\n",
       "\n",
       "    .dataframe tbody tr th {\n",
       "        vertical-align: top;\n",
       "    }\n",
       "\n",
       "    .dataframe thead th {\n",
       "        text-align: right;\n",
       "    }\n",
       "</style>\n",
       "<table border=\"1\" class=\"dataframe\">\n",
       "  <thead>\n",
       "    <tr style=\"text-align: right;\">\n",
       "      <th></th>\n",
       "      <th>fixed acidity</th>\n",
       "      <th>volatile acidity</th>\n",
       "      <th>citric acid</th>\n",
       "      <th>residual sugar</th>\n",
       "      <th>chlorides</th>\n",
       "      <th>free sulfur dioxide</th>\n",
       "      <th>total sulfur dioxide</th>\n",
       "      <th>density</th>\n",
       "      <th>pH</th>\n",
       "      <th>sulphates</th>\n",
       "      <th>alcohol</th>\n",
       "      <th>quality</th>\n",
       "    </tr>\n",
       "  </thead>\n",
       "  <tbody>\n",
       "    <tr>\n",
       "      <th>0</th>\n",
       "      <td>7.0</td>\n",
       "      <td>0.27</td>\n",
       "      <td>0.36</td>\n",
       "      <td>20.7</td>\n",
       "      <td>0.045</td>\n",
       "      <td>45.0</td>\n",
       "      <td>170.0</td>\n",
       "      <td>1.0010</td>\n",
       "      <td>3.00</td>\n",
       "      <td>0.45</td>\n",
       "      <td>8.8</td>\n",
       "      <td>6</td>\n",
       "    </tr>\n",
       "    <tr>\n",
       "      <th>1</th>\n",
       "      <td>6.3</td>\n",
       "      <td>0.30</td>\n",
       "      <td>0.34</td>\n",
       "      <td>1.6</td>\n",
       "      <td>0.049</td>\n",
       "      <td>14.0</td>\n",
       "      <td>132.0</td>\n",
       "      <td>0.9940</td>\n",
       "      <td>3.30</td>\n",
       "      <td>0.49</td>\n",
       "      <td>9.5</td>\n",
       "      <td>6</td>\n",
       "    </tr>\n",
       "    <tr>\n",
       "      <th>2</th>\n",
       "      <td>8.1</td>\n",
       "      <td>0.28</td>\n",
       "      <td>0.40</td>\n",
       "      <td>6.9</td>\n",
       "      <td>0.050</td>\n",
       "      <td>30.0</td>\n",
       "      <td>97.0</td>\n",
       "      <td>0.9951</td>\n",
       "      <td>3.26</td>\n",
       "      <td>0.44</td>\n",
       "      <td>10.1</td>\n",
       "      <td>6</td>\n",
       "    </tr>\n",
       "    <tr>\n",
       "      <th>3</th>\n",
       "      <td>7.2</td>\n",
       "      <td>0.23</td>\n",
       "      <td>0.32</td>\n",
       "      <td>8.5</td>\n",
       "      <td>0.058</td>\n",
       "      <td>47.0</td>\n",
       "      <td>186.0</td>\n",
       "      <td>0.9956</td>\n",
       "      <td>3.19</td>\n",
       "      <td>0.40</td>\n",
       "      <td>9.9</td>\n",
       "      <td>6</td>\n",
       "    </tr>\n",
       "    <tr>\n",
       "      <th>4</th>\n",
       "      <td>7.2</td>\n",
       "      <td>0.23</td>\n",
       "      <td>0.32</td>\n",
       "      <td>8.5</td>\n",
       "      <td>0.058</td>\n",
       "      <td>47.0</td>\n",
       "      <td>186.0</td>\n",
       "      <td>0.9956</td>\n",
       "      <td>3.19</td>\n",
       "      <td>0.40</td>\n",
       "      <td>9.9</td>\n",
       "      <td>6</td>\n",
       "    </tr>\n",
       "  </tbody>\n",
       "</table>\n",
       "</div>"
      ],
      "text/plain": [
       "   fixed acidity  volatile acidity  citric acid  residual sugar  chlorides  \\\n",
       "0            7.0              0.27         0.36            20.7      0.045   \n",
       "1            6.3              0.30         0.34             1.6      0.049   \n",
       "2            8.1              0.28         0.40             6.9      0.050   \n",
       "3            7.2              0.23         0.32             8.5      0.058   \n",
       "4            7.2              0.23         0.32             8.5      0.058   \n",
       "\n",
       "   free sulfur dioxide  total sulfur dioxide  density    pH  sulphates  \\\n",
       "0                 45.0                 170.0   1.0010  3.00       0.45   \n",
       "1                 14.0                 132.0   0.9940  3.30       0.49   \n",
       "2                 30.0                  97.0   0.9951  3.26       0.44   \n",
       "3                 47.0                 186.0   0.9956  3.19       0.40   \n",
       "4                 47.0                 186.0   0.9956  3.19       0.40   \n",
       "\n",
       "   alcohol  quality  \n",
       "0      8.8        6  \n",
       "1      9.5        6  \n",
       "2     10.1        6  \n",
       "3      9.9        6  \n",
       "4      9.9        6  "
      ]
     },
     "execution_count": 3,
     "metadata": {},
     "output_type": "execute_result"
    }
   ],
   "source": [
    "data.head()"
   ]
  },
  {
   "cell_type": "code",
   "execution_count": 4,
   "metadata": {},
   "outputs": [
    {
     "data": {
      "text/plain": [
       "(4898, 12)"
      ]
     },
     "execution_count": 4,
     "metadata": {},
     "output_type": "execute_result"
    }
   ],
   "source": [
    "data.shape"
   ]
  },
  {
   "cell_type": "code",
   "execution_count": 5,
   "metadata": {},
   "outputs": [
    {
     "name": "stdout",
     "output_type": "stream",
     "text": [
      "[68, 125, 87, 310, 160, 132, 251, 890, 103, 79, 103, 7]\n"
     ]
    }
   ],
   "source": [
    "unique_values = []\n",
    "for columns in data:\n",
    "    def get_unique_values(dataset=data,columns=[]):\n",
    "        return len(dataset[columns].unique())\n",
    "    unique_values.append(get_unique_values(data,columns))\n",
    "print(unique_values)"
   ]
  },
  {
   "cell_type": "code",
   "execution_count": 6,
   "metadata": {},
   "outputs": [
    {
     "name": "stdout",
     "output_type": "stream",
     "text": [
      "[14.2, 1.1, 1.66, 65.8, 0.35, 289.0, 440.0, 1.04, 3.82, 1.08, 14.2, 9]\n"
     ]
    }
   ],
   "source": [
    "maximum_values = []\n",
    "for columns in data:\n",
    "    def get_max_values(dataset=data,columns=[]):\n",
    "        return round(dataset[columns].max(),2)\n",
    "    maximum_values.append(get_max_values(data,columns))\n",
    "print(maximum_values)"
   ]
  },
  {
   "cell_type": "code",
   "execution_count": 7,
   "metadata": {},
   "outputs": [
    {
     "name": "stdout",
     "output_type": "stream",
     "text": [
      "[3.8, 0.08, 0.0, 0.6, 0.009000000000000001, 2.0, 9.0, 0.98711, 2.72, 0.22, 8.0, 3]\n"
     ]
    }
   ],
   "source": [
    "minimum_values = []\n",
    "for columns in data:\n",
    "    def get_min_values(dataset=data,columns=[]):\n",
    "        return dataset[columns].min()\n",
    "    minimum_values.append(get_min_values(data,columns))\n",
    "print(minimum_values)"
   ]
  },
  {
   "cell_type": "code",
   "execution_count": 8,
   "metadata": {},
   "outputs": [
    {
     "name": "stdout",
     "output_type": "stream",
     "text": [
      "[0.84, 0.1, 0.12, 5.07, 0.02, 17.01, 42.5, 0.0, 0.15, 0.11, 1.23, 0.89]\n"
     ]
    }
   ],
   "source": [
    "standard_deviation = []\n",
    "for columns in data:\n",
    "    def get_stand_deviation(dataset=data,columns=[]):\n",
    "        return round(dataset[columns].std(),2)\n",
    "    standard_deviation.append(get_stand_deviation(data,columns))\n",
    "print(standard_deviation)"
   ]
  },
  {
   "cell_type": "code",
   "execution_count": 9,
   "metadata": {},
   "outputs": [
    {
     "name": "stdout",
     "output_type": "stream",
     "text": [
      "[0.71, 0.01, 0.01, 25.73, 0.0, 289.24, 1806.09, 0.0, 0.02, 0.01, 1.51, 0.78]\n"
     ]
    }
   ],
   "source": [
    "variance = []\n",
    "for columns in data:\n",
    "    def get_variance(dataset=data,columns=[]):\n",
    "        return round(dataset[columns].var(),2)\n",
    "    variance.append(get_variance(data,columns))\n",
    "print(variance)"
   ]
  },
  {
   "cell_type": "code",
   "execution_count": 10,
   "metadata": {},
   "outputs": [
    {
     "name": "stdout",
     "output_type": "stream",
     "text": [
      "[6.85, 0.28, 0.33, 6.39, 0.05, 35.31, 138.36, 0.99, 3.19, 0.49, 10.51, 5.88]\n"
     ]
    }
   ],
   "source": [
    "mean= []\n",
    "for columns in data:\n",
    "    def get_mean(dataset=data,columns=[]):\n",
    "        return round(dataset[columns].mean(),2)\n",
    "    mean.append(get_mean(data,columns))\n",
    "print(mean)"
   ]
  },
  {
   "cell_type": "code",
   "execution_count": 11,
   "metadata": {},
   "outputs": [
    {
     "name": "stdout",
     "output_type": "stream",
     "text": [
      "[6.8, 0.26, 0.32, 5.2, 0.04, 34.0, 134.0, 0.99, 3.18, 0.47, 10.4, 6.0]\n"
     ]
    }
   ],
   "source": [
    "median= []\n",
    "for columns in data:\n",
    "    def get_median(dataset=data,columns=[]):\n",
    "        return round(dataset[columns].median(),2)\n",
    "    median.append(get_median(data,columns))\n",
    "print(median)"
   ]
  },
  {
   "cell_type": "code",
   "execution_count": 12,
   "metadata": {},
   "outputs": [
    {
     "name": "stdout",
     "output_type": "stream",
     "text": [
      "[6.8, 0.28, 0.3, 1.2, 0.044000000000000004, 29.0, 111.0, 0.992, 3.14, 0.5, 9.4, 6]\n"
     ]
    }
   ],
   "source": [
    "mode= []\n",
    "for columns in data:\n",
    "    def get_mode(dataset=data,columns=[]):\n",
    "        return dataset[columns].mode()[0]\n",
    "    mode.append(get_mode(data,columns))\n",
    "print(mode)"
   ]
  },
  {
   "cell_type": "code",
   "execution_count": 13,
   "metadata": {},
   "outputs": [
    {
     "data": {
      "text/plain": [
       "fixed acidity           0\n",
       "volatile acidity        0\n",
       "citric acid             0\n",
       "residual sugar          0\n",
       "chlorides               0\n",
       "free sulfur dioxide     0\n",
       "total sulfur dioxide    0\n",
       "density                 0\n",
       "pH                      0\n",
       "sulphates               0\n",
       "alcohol                 0\n",
       "quality                 0\n",
       "dtype: int64"
      ]
     },
     "execution_count": 13,
     "metadata": {},
     "output_type": "execute_result"
    }
   ],
   "source": [
    "def get_missing_value(dataset=data):\n",
    "    return dataset.isna().sum()\n",
    "missing_values=get_missing_value(dataset=data)\n",
    "missing_values"
   ]
  },
  {
   "cell_type": "code",
   "execution_count": 14,
   "metadata": {},
   "outputs": [],
   "source": [
    "def get_unique(col):\n",
    "    return col.nunique()\n",
    "unique_values_list = data.apply(lambda col: get_unique(col),axis=0)"
   ]
  },
  {
   "cell_type": "code",
   "execution_count": 15,
   "metadata": {},
   "outputs": [
    {
     "data": {
      "text/plain": [
       "fixed acidity            68\n",
       "volatile acidity        125\n",
       "citric acid              87\n",
       "residual sugar          310\n",
       "chlorides               160\n",
       "free sulfur dioxide     132\n",
       "total sulfur dioxide    251\n",
       "density                 890\n",
       "pH                      103\n",
       "sulphates                79\n",
       "alcohol                 103\n",
       "quality                   7\n",
       "dtype: int64"
      ]
     },
     "execution_count": 15,
     "metadata": {},
     "output_type": "execute_result"
    }
   ],
   "source": [
    "unique_values_list"
   ]
  },
  {
   "cell_type": "code",
   "execution_count": 16,
   "metadata": {},
   "outputs": [],
   "source": [
    "def get_skewness(col):\n",
    "    skewness = skew(col)\n",
    "    if  -0.5<skewness<0.5:\n",
    "        return \"Left_Skewed\"\n",
    "    elif 0.5<skewness<1:\n",
    "        return \"Right_Skewed\"\n",
    "    else:\n",
    "        return \"No_Skewness\"\n",
    "skewness_values = data.apply(lambda col:get_skewness(col),axis=0)"
   ]
  },
  {
   "cell_type": "code",
   "execution_count": 17,
   "metadata": {},
   "outputs": [
    {
     "data": {
      "text/plain": [
       "fixed acidity           Right_Skewed\n",
       "volatile acidity         No_Skewness\n",
       "citric acid              No_Skewness\n",
       "residual sugar           No_Skewness\n",
       "chlorides                No_Skewness\n",
       "free sulfur dioxide      No_Skewness\n",
       "total sulfur dioxide     Left_Skewed\n",
       "density                 Right_Skewed\n",
       "pH                       Left_Skewed\n",
       "sulphates               Right_Skewed\n",
       "alcohol                  Left_Skewed\n",
       "quality                  Left_Skewed\n",
       "dtype: object"
      ]
     },
     "execution_count": 17,
     "metadata": {},
     "output_type": "execute_result"
    }
   ],
   "source": [
    "skewness_values"
   ]
  },
  {
   "cell_type": "code",
   "execution_count": 18,
   "metadata": {},
   "outputs": [
    {
     "data": {
      "text/plain": [
       "fixed acidity            68\n",
       "volatile acidity        125\n",
       "citric acid              87\n",
       "residual sugar          310\n",
       "chlorides               160\n",
       "free sulfur dioxide     132\n",
       "total sulfur dioxide    251\n",
       "density                 890\n",
       "pH                      103\n",
       "sulphates                79\n",
       "alcohol                 103\n",
       "quality                   7\n",
       "dtype: int64"
      ]
     },
     "execution_count": 18,
     "metadata": {},
     "output_type": "execute_result"
    }
   ],
   "source": [
    "unique_values_list"
   ]
  },
  {
   "cell_type": "code",
   "execution_count": 19,
   "metadata": {},
   "outputs": [
    {
     "data": {
      "text/plain": [
       "fixed acidity           119\n",
       "volatile acidity        186\n",
       "citric acid             270\n",
       "residual sugar            7\n",
       "chlorides               212\n",
       "free sulfur dioxide      50\n",
       "total sulfur dioxide     19\n",
       "density                   5\n",
       "pH                       75\n",
       "sulphates               124\n",
       "alcohol                   0\n",
       "quality                 200\n",
       "dtype: int64"
      ]
     },
     "execution_count": 19,
     "metadata": {},
     "output_type": "execute_result"
    }
   ],
   "source": [
    "def get_outliers(col):\n",
    "    quartile1,quartile3 = np.percentile(col,[25,75])\n",
    "    iqr = quartile3-quartile1\n",
    "    lower_bound = quartile1 - (1.5*iqr)\n",
    "    upper_bound = quartile3 + (1.5*iqr)\n",
    "    outliers = ((col < (quartile1 - 1.5 * iqr)) | (col > (quartile3 + 1.5 * iqr))).sum()\n",
    "    return outliers\n",
    "outlier_values = data.apply(lambda col: get_outliers(col),axis=0)\n",
    "#(outlier_values.sum()*5)/100\n",
    "outlier_values"
   ]
  },
  {
   "cell_type": "code",
   "execution_count": 20,
   "metadata": {},
   "outputs": [
    {
     "data": {
      "text/plain": [
       "fixed acidity             6.800\n",
       "volatile acidity          0.280\n",
       "citric acid               0.300\n",
       "residual sugar            1.200\n",
       "chlorides                 0.044\n",
       "free sulfur dioxide      29.000\n",
       "total sulfur dioxide    111.000\n",
       "density                   0.992\n",
       "pH                        3.140\n",
       "sulphates                 0.500\n",
       "alcohol                   9.400\n",
       "quality                   6.000\n",
       "Name: 0, dtype: float64"
      ]
     },
     "execution_count": 20,
     "metadata": {},
     "output_type": "execute_result"
    }
   ],
   "source": [
    "data.mode().iloc[0]"
   ]
  },
  {
   "cell_type": "code",
   "execution_count": 21,
   "metadata": {},
   "outputs": [
    {
     "data": {
      "text/plain": [
       "fixed acidity           119\n",
       "volatile acidity        186\n",
       "citric acid             270\n",
       "residual sugar            7\n",
       "chlorides               212\n",
       "free sulfur dioxide      50\n",
       "total sulfur dioxide     19\n",
       "density                   5\n",
       "pH                       75\n",
       "sulphates               124\n",
       "alcohol                   0\n",
       "quality                 200\n",
       "dtype: int64"
      ]
     },
     "execution_count": 21,
     "metadata": {},
     "output_type": "execute_result"
    }
   ],
   "source": [
    "outlier_values"
   ]
  },
  {
   "cell_type": "code",
   "execution_count": 22,
   "metadata": {},
   "outputs": [],
   "source": [
    "def get_unique(col):\n",
    "    return col.nunique()\n",
    "unique_values_list = data.apply(lambda col: get_unique(col),axis=0)"
   ]
  },
  {
   "cell_type": "code",
   "execution_count": 23,
   "metadata": {},
   "outputs": [
    {
     "name": "stdout",
     "output_type": "stream",
     "text": [
      "<class 'pandas.core.frame.DataFrame'>\n",
      "RangeIndex: 4898 entries, 0 to 4897\n",
      "Data columns (total 12 columns):\n",
      "fixed acidity           4898 non-null float64\n",
      "volatile acidity        4898 non-null float64\n",
      "citric acid             4898 non-null float64\n",
      "residual sugar          4898 non-null float64\n",
      "chlorides               4898 non-null float64\n",
      "free sulfur dioxide     4898 non-null float64\n",
      "total sulfur dioxide    4898 non-null float64\n",
      "density                 4898 non-null float64\n",
      "pH                      4898 non-null float64\n",
      "sulphates               4898 non-null float64\n",
      "alcohol                 4898 non-null float64\n",
      "quality                 4898 non-null int64\n",
      "dtypes: float64(11), int64(1)\n",
      "memory usage: 459.3 KB\n"
     ]
    }
   ],
   "source": [
    "data.info()"
   ]
  },
  {
   "cell_type": "code",
   "execution_count": 24,
   "metadata": {},
   "outputs": [],
   "source": [
    "data1 = {'Columns':[\"fixed.acidity\",\"volatile.acidity\",\"citric.acid\",\"residual.sugar\",\"chlorides\",\n",
    "                    \"free.sulfur.dioxide\",\"total.sulfur.dioxide\",\"density\",\"pH\",\"sulphates\",\"alcohol\",\"quality\"],\n",
    "         'Unique':unique_values,'Max':maximum_values,'Min':minimum_values,'Std':standard_deviation,'Var':variance,'Mean':mean,\n",
    "        'Median':median,'Mode':mode,'Null_Values':missing_values,'Outliers':outlier_values,'Skew':skewness_values}"
   ]
  },
  {
   "cell_type": "code",
   "execution_count": 25,
   "metadata": {},
   "outputs": [
    {
     "data": {
      "text/html": [
       "<div>\n",
       "<style scoped>\n",
       "    .dataframe tbody tr th:only-of-type {\n",
       "        vertical-align: middle;\n",
       "    }\n",
       "\n",
       "    .dataframe tbody tr th {\n",
       "        vertical-align: top;\n",
       "    }\n",
       "\n",
       "    .dataframe thead th {\n",
       "        text-align: right;\n",
       "    }\n",
       "</style>\n",
       "<table border=\"1\" class=\"dataframe\">\n",
       "  <thead>\n",
       "    <tr style=\"text-align: right;\">\n",
       "      <th></th>\n",
       "      <th>Columns</th>\n",
       "      <th>Unique</th>\n",
       "      <th>Max</th>\n",
       "      <th>Min</th>\n",
       "      <th>Std</th>\n",
       "      <th>Var</th>\n",
       "      <th>Mean</th>\n",
       "      <th>Median</th>\n",
       "      <th>Mode</th>\n",
       "      <th>Null_Values</th>\n",
       "      <th>Outliers</th>\n",
       "      <th>Skew</th>\n",
       "    </tr>\n",
       "  </thead>\n",
       "  <tbody>\n",
       "    <tr>\n",
       "      <th>fixed acidity</th>\n",
       "      <td>fixed.acidity</td>\n",
       "      <td>68</td>\n",
       "      <td>14.20</td>\n",
       "      <td>3.80000</td>\n",
       "      <td>0.84</td>\n",
       "      <td>0.71</td>\n",
       "      <td>6.85</td>\n",
       "      <td>6.80</td>\n",
       "      <td>6.800</td>\n",
       "      <td>0</td>\n",
       "      <td>119</td>\n",
       "      <td>Right_Skewed</td>\n",
       "    </tr>\n",
       "    <tr>\n",
       "      <th>volatile acidity</th>\n",
       "      <td>volatile.acidity</td>\n",
       "      <td>125</td>\n",
       "      <td>1.10</td>\n",
       "      <td>0.08000</td>\n",
       "      <td>0.10</td>\n",
       "      <td>0.01</td>\n",
       "      <td>0.28</td>\n",
       "      <td>0.26</td>\n",
       "      <td>0.280</td>\n",
       "      <td>0</td>\n",
       "      <td>186</td>\n",
       "      <td>No_Skewness</td>\n",
       "    </tr>\n",
       "    <tr>\n",
       "      <th>citric acid</th>\n",
       "      <td>citric.acid</td>\n",
       "      <td>87</td>\n",
       "      <td>1.66</td>\n",
       "      <td>0.00000</td>\n",
       "      <td>0.12</td>\n",
       "      <td>0.01</td>\n",
       "      <td>0.33</td>\n",
       "      <td>0.32</td>\n",
       "      <td>0.300</td>\n",
       "      <td>0</td>\n",
       "      <td>270</td>\n",
       "      <td>No_Skewness</td>\n",
       "    </tr>\n",
       "    <tr>\n",
       "      <th>residual sugar</th>\n",
       "      <td>residual.sugar</td>\n",
       "      <td>310</td>\n",
       "      <td>65.80</td>\n",
       "      <td>0.60000</td>\n",
       "      <td>5.07</td>\n",
       "      <td>25.73</td>\n",
       "      <td>6.39</td>\n",
       "      <td>5.20</td>\n",
       "      <td>1.200</td>\n",
       "      <td>0</td>\n",
       "      <td>7</td>\n",
       "      <td>No_Skewness</td>\n",
       "    </tr>\n",
       "    <tr>\n",
       "      <th>chlorides</th>\n",
       "      <td>chlorides</td>\n",
       "      <td>160</td>\n",
       "      <td>0.35</td>\n",
       "      <td>0.00900</td>\n",
       "      <td>0.02</td>\n",
       "      <td>0.00</td>\n",
       "      <td>0.05</td>\n",
       "      <td>0.04</td>\n",
       "      <td>0.044</td>\n",
       "      <td>0</td>\n",
       "      <td>212</td>\n",
       "      <td>No_Skewness</td>\n",
       "    </tr>\n",
       "    <tr>\n",
       "      <th>free sulfur dioxide</th>\n",
       "      <td>free.sulfur.dioxide</td>\n",
       "      <td>132</td>\n",
       "      <td>289.00</td>\n",
       "      <td>2.00000</td>\n",
       "      <td>17.01</td>\n",
       "      <td>289.24</td>\n",
       "      <td>35.31</td>\n",
       "      <td>34.00</td>\n",
       "      <td>29.000</td>\n",
       "      <td>0</td>\n",
       "      <td>50</td>\n",
       "      <td>No_Skewness</td>\n",
       "    </tr>\n",
       "    <tr>\n",
       "      <th>total sulfur dioxide</th>\n",
       "      <td>total.sulfur.dioxide</td>\n",
       "      <td>251</td>\n",
       "      <td>440.00</td>\n",
       "      <td>9.00000</td>\n",
       "      <td>42.50</td>\n",
       "      <td>1806.09</td>\n",
       "      <td>138.36</td>\n",
       "      <td>134.00</td>\n",
       "      <td>111.000</td>\n",
       "      <td>0</td>\n",
       "      <td>19</td>\n",
       "      <td>Left_Skewed</td>\n",
       "    </tr>\n",
       "    <tr>\n",
       "      <th>density</th>\n",
       "      <td>density</td>\n",
       "      <td>890</td>\n",
       "      <td>1.04</td>\n",
       "      <td>0.98711</td>\n",
       "      <td>0.00</td>\n",
       "      <td>0.00</td>\n",
       "      <td>0.99</td>\n",
       "      <td>0.99</td>\n",
       "      <td>0.992</td>\n",
       "      <td>0</td>\n",
       "      <td>5</td>\n",
       "      <td>Right_Skewed</td>\n",
       "    </tr>\n",
       "    <tr>\n",
       "      <th>pH</th>\n",
       "      <td>pH</td>\n",
       "      <td>103</td>\n",
       "      <td>3.82</td>\n",
       "      <td>2.72000</td>\n",
       "      <td>0.15</td>\n",
       "      <td>0.02</td>\n",
       "      <td>3.19</td>\n",
       "      <td>3.18</td>\n",
       "      <td>3.140</td>\n",
       "      <td>0</td>\n",
       "      <td>75</td>\n",
       "      <td>Left_Skewed</td>\n",
       "    </tr>\n",
       "    <tr>\n",
       "      <th>sulphates</th>\n",
       "      <td>sulphates</td>\n",
       "      <td>79</td>\n",
       "      <td>1.08</td>\n",
       "      <td>0.22000</td>\n",
       "      <td>0.11</td>\n",
       "      <td>0.01</td>\n",
       "      <td>0.49</td>\n",
       "      <td>0.47</td>\n",
       "      <td>0.500</td>\n",
       "      <td>0</td>\n",
       "      <td>124</td>\n",
       "      <td>Right_Skewed</td>\n",
       "    </tr>\n",
       "    <tr>\n",
       "      <th>alcohol</th>\n",
       "      <td>alcohol</td>\n",
       "      <td>103</td>\n",
       "      <td>14.20</td>\n",
       "      <td>8.00000</td>\n",
       "      <td>1.23</td>\n",
       "      <td>1.51</td>\n",
       "      <td>10.51</td>\n",
       "      <td>10.40</td>\n",
       "      <td>9.400</td>\n",
       "      <td>0</td>\n",
       "      <td>0</td>\n",
       "      <td>Left_Skewed</td>\n",
       "    </tr>\n",
       "    <tr>\n",
       "      <th>quality</th>\n",
       "      <td>quality</td>\n",
       "      <td>7</td>\n",
       "      <td>9.00</td>\n",
       "      <td>3.00000</td>\n",
       "      <td>0.89</td>\n",
       "      <td>0.78</td>\n",
       "      <td>5.88</td>\n",
       "      <td>6.00</td>\n",
       "      <td>6.000</td>\n",
       "      <td>0</td>\n",
       "      <td>200</td>\n",
       "      <td>Left_Skewed</td>\n",
       "    </tr>\n",
       "  </tbody>\n",
       "</table>\n",
       "</div>"
      ],
      "text/plain": [
       "                                   Columns  Unique     Max      Min    Std  \\\n",
       "fixed acidity                fixed.acidity      68   14.20  3.80000   0.84   \n",
       "volatile acidity          volatile.acidity     125    1.10  0.08000   0.10   \n",
       "citric acid                    citric.acid      87    1.66  0.00000   0.12   \n",
       "residual sugar              residual.sugar     310   65.80  0.60000   5.07   \n",
       "chlorides                        chlorides     160    0.35  0.00900   0.02   \n",
       "free sulfur dioxide    free.sulfur.dioxide     132  289.00  2.00000  17.01   \n",
       "total sulfur dioxide  total.sulfur.dioxide     251  440.00  9.00000  42.50   \n",
       "density                            density     890    1.04  0.98711   0.00   \n",
       "pH                                      pH     103    3.82  2.72000   0.15   \n",
       "sulphates                        sulphates      79    1.08  0.22000   0.11   \n",
       "alcohol                            alcohol     103   14.20  8.00000   1.23   \n",
       "quality                            quality       7    9.00  3.00000   0.89   \n",
       "\n",
       "                          Var    Mean  Median     Mode  Null_Values  Outliers  \\\n",
       "fixed acidity            0.71    6.85    6.80    6.800            0       119   \n",
       "volatile acidity         0.01    0.28    0.26    0.280            0       186   \n",
       "citric acid              0.01    0.33    0.32    0.300            0       270   \n",
       "residual sugar          25.73    6.39    5.20    1.200            0         7   \n",
       "chlorides                0.00    0.05    0.04    0.044            0       212   \n",
       "free sulfur dioxide    289.24   35.31   34.00   29.000            0        50   \n",
       "total sulfur dioxide  1806.09  138.36  134.00  111.000            0        19   \n",
       "density                  0.00    0.99    0.99    0.992            0         5   \n",
       "pH                       0.02    3.19    3.18    3.140            0        75   \n",
       "sulphates                0.01    0.49    0.47    0.500            0       124   \n",
       "alcohol                  1.51   10.51   10.40    9.400            0         0   \n",
       "quality                  0.78    5.88    6.00    6.000            0       200   \n",
       "\n",
       "                              Skew  \n",
       "fixed acidity         Right_Skewed  \n",
       "volatile acidity       No_Skewness  \n",
       "citric acid            No_Skewness  \n",
       "residual sugar         No_Skewness  \n",
       "chlorides              No_Skewness  \n",
       "free sulfur dioxide    No_Skewness  \n",
       "total sulfur dioxide   Left_Skewed  \n",
       "density               Right_Skewed  \n",
       "pH                     Left_Skewed  \n",
       "sulphates             Right_Skewed  \n",
       "alcohol                Left_Skewed  \n",
       "quality                Left_Skewed  "
      ]
     },
     "execution_count": 25,
     "metadata": {},
     "output_type": "execute_result"
    }
   ],
   "source": [
    "final_data=pd.DataFrame(data1)\n",
    "final_data"
   ]
  },
  {
   "cell_type": "code",
   "execution_count": 26,
   "metadata": {},
   "outputs": [
    {
     "data": {
      "text/plain": [
       "[2198, 1457, 880, 175, 163, 20, 5]"
      ]
     },
     "execution_count": 26,
     "metadata": {},
     "output_type": "execute_result"
    }
   ],
   "source": [
    "list(data['quality'].value_counts())"
   ]
  },
  {
   "cell_type": "code",
   "execution_count": 27,
   "metadata": {},
   "outputs": [],
   "source": [
    "def get_imbalanced_classes(data,columns=[]):\n",
    "    values_count = data[columns].value_counts()\n",
    "    percentage_of_value_count_list = list((values_count/4898)*100) #total number of records = 4898 as per data.shape\n",
    "    percentage_of_value_count = (values_count/4898)*100\n",
    "    threshold_classes = (100/data['quality'].nunique())*0.8\n",
    "    result = []\n",
    "    for i in range(len(percentage_of_value_count_list)):\n",
    "        if percentage_of_value_count_list[i] < threshold_classes:\n",
    "            result.append([\"Imbalanced_Class\",percentage_of_value_count_list[i],percentage_of_value_count.index[i]])\n",
    "        else:\n",
    "            result.append([\"Balanced_Class\",percentage_of_value_count_list[i],percentage_of_value_count.index[i]])\n",
    "    return result"
   ]
  },
  {
   "cell_type": "code",
   "execution_count": 28,
   "metadata": {},
   "outputs": [
    {
     "data": {
      "text/plain": [
       "\"[['Balanced_Class', 44.87545937117191, 6], ['Balanced_Class', 29.746835443037973, 5], ['Balanced_Class', 17.966516945692117, 7], ['Imbalanced_Class', 3.5728868926092283, 8], ['Imbalanced_Class', 3.327888934258881, 4], ['Imbalanced_Class', 0.4083299305839118, 3], ['Imbalanced_Class', 0.10208248264597795, 9]]\""
      ]
     },
     "execution_count": 28,
     "metadata": {},
     "output_type": "execute_result"
    }
   ],
   "source": [
    "q=str(get_imbalanced_classes(data,columns='quality'))\n",
    "q"
   ]
  },
  {
   "cell_type": "code",
   "execution_count": 29,
   "metadata": {},
   "outputs": [
    {
     "data": {
      "text/plain": [
       "7"
      ]
     },
     "execution_count": 29,
     "metadata": {},
     "output_type": "execute_result"
    }
   ],
   "source": [
    "data['quality'].nunique()"
   ]
  },
  {
   "cell_type": "code",
   "execution_count": 30,
   "metadata": {},
   "outputs": [
    {
     "data": {
      "text/plain": [
       "6    2198\n",
       "5    1457\n",
       "7     880\n",
       "8     175\n",
       "4     163\n",
       "3      20\n",
       "9       5\n",
       "Name: quality, dtype: int64"
      ]
     },
     "execution_count": 30,
     "metadata": {},
     "output_type": "execute_result"
    }
   ],
   "source": [
    "values_count = data[columns].value_counts()\n",
    "values_count"
   ]
  },
  {
   "cell_type": "code",
   "execution_count": 31,
   "metadata": {},
   "outputs": [
    {
     "data": {
      "text/plain": [
       "[119, 186, 270, 7, 212, 50, 19, 5, 75, 124, 0, 200]"
      ]
     },
     "execution_count": 31,
     "metadata": {},
     "output_type": "execute_result"
    }
   ],
   "source": [
    "list(outlier_values)"
   ]
  },
  {
   "cell_type": "code",
   "execution_count": 32,
   "metadata": {},
   "outputs": [],
   "source": [
    "def detect_skewness(col):\n",
    "    skewness = skew(col)\n",
    "    if  -0.5<skewness<0.5:\n",
    "        return \"Left_Skewed\"\n",
    "    elif 0.5<skewness<1:\n",
    "        return \"Right_Skewed\"\n",
    "    else:\n",
    "        return \"No_Skewness\"\n",
    "def get_skewness(data):\n",
    "    skewness_values = data.apply(lambda col:detect_skewness(col),axis=0)\n",
    "    return skewness_values"
   ]
  },
  {
   "cell_type": "code",
   "execution_count": 33,
   "metadata": {},
   "outputs": [
    {
     "data": {
      "text/plain": [
       "fixed acidity           Right_Skewed\n",
       "volatile acidity         No_Skewness\n",
       "citric acid              No_Skewness\n",
       "residual sugar           No_Skewness\n",
       "chlorides                No_Skewness\n",
       "free sulfur dioxide      No_Skewness\n",
       "total sulfur dioxide     Left_Skewed\n",
       "density                 Right_Skewed\n",
       "pH                       Left_Skewed\n",
       "sulphates               Right_Skewed\n",
       "alcohol                  Left_Skewed\n",
       "quality                  Left_Skewed\n",
       "dtype: object"
      ]
     },
     "execution_count": 33,
     "metadata": {},
     "output_type": "execute_result"
    }
   ],
   "source": [
    "skewness_values"
   ]
  },
  {
   "cell_type": "code",
   "execution_count": 34,
   "metadata": {},
   "outputs": [
    {
     "data": {
      "text/plain": [
       "array([0.64755309, 1.57649652, 1.28152778, 1.07676387, 5.02179217,\n",
       "       1.40631407, 0.39059018, 0.97747354, 0.45764234, 0.97689439,\n",
       "       0.48719273, 0.15574868])"
      ]
     },
     "execution_count": 34,
     "metadata": {},
     "output_type": "execute_result"
    }
   ],
   "source": [
    "a = skew(data)\n",
    "a"
   ]
  },
  {
   "cell_type": "code",
   "execution_count": 35,
   "metadata": {},
   "outputs": [
    {
     "data": {
      "text/plain": [
       "array([119, 186, 270,   7, 212,  50,  19,   5,  75, 124,   0, 200],\n",
       "      dtype=int64)"
      ]
     },
     "execution_count": 35,
     "metadata": {},
     "output_type": "execute_result"
    }
   ],
   "source": [
    "np.array(outlier_values)"
   ]
  },
  {
   "cell_type": "code",
   "execution_count": 36,
   "metadata": {},
   "outputs": [
    {
     "name": "stdout",
     "output_type": "stream",
     "text": [
      "119\n",
      "186\n",
      "270\n",
      "7\n",
      "212\n",
      "50\n",
      "19\n",
      "5\n",
      "75\n",
      "124\n",
      "0\n",
      "200\n"
     ]
    }
   ],
   "source": [
    "for i in range(0,12,1):\n",
    "    print(outlier_values[i])"
   ]
  },
  {
   "cell_type": "code",
   "execution_count": 386,
   "metadata": {},
   "outputs": [
    {
     "data": {
      "text/plain": [
       "['Noisy_data']"
      ]
     },
     "execution_count": 386,
     "metadata": {},
     "output_type": "execute_result"
    }
   ],
   "source": [
    "get_noisy_data(data)"
   ]
  },
  {
   "cell_type": "code",
   "execution_count": 387,
   "metadata": {},
   "outputs": [
    {
     "data": {
      "text/html": [
       "<div>\n",
       "<style scoped>\n",
       "    .dataframe tbody tr th:only-of-type {\n",
       "        vertical-align: middle;\n",
       "    }\n",
       "\n",
       "    .dataframe tbody tr th {\n",
       "        vertical-align: top;\n",
       "    }\n",
       "\n",
       "    .dataframe thead th {\n",
       "        text-align: right;\n",
       "    }\n",
       "</style>\n",
       "<table border=\"1\" class=\"dataframe\">\n",
       "  <thead>\n",
       "    <tr style=\"text-align: right;\">\n",
       "      <th></th>\n",
       "      <th>Columns</th>\n",
       "      <th>Unique</th>\n",
       "      <th>Max</th>\n",
       "      <th>Min</th>\n",
       "      <th>Std</th>\n",
       "      <th>Var</th>\n",
       "      <th>Mean</th>\n",
       "      <th>Median</th>\n",
       "      <th>Mode</th>\n",
       "      <th>Null_Values</th>\n",
       "      <th>Outliers</th>\n",
       "      <th>Skew</th>\n",
       "    </tr>\n",
       "  </thead>\n",
       "  <tbody>\n",
       "    <tr>\n",
       "      <th>fixed acidity</th>\n",
       "      <td>fixed.acidity</td>\n",
       "      <td>68</td>\n",
       "      <td>14.20</td>\n",
       "      <td>3.800</td>\n",
       "      <td>0.84</td>\n",
       "      <td>0.71</td>\n",
       "      <td>6.85</td>\n",
       "      <td>6.80</td>\n",
       "      <td>6.800</td>\n",
       "      <td>0</td>\n",
       "      <td>119</td>\n",
       "      <td>Right_Skewed</td>\n",
       "    </tr>\n",
       "    <tr>\n",
       "      <th>volatile acidity</th>\n",
       "      <td>volatile.acidity</td>\n",
       "      <td>125</td>\n",
       "      <td>1.10</td>\n",
       "      <td>0.080</td>\n",
       "      <td>0.10</td>\n",
       "      <td>0.01</td>\n",
       "      <td>0.28</td>\n",
       "      <td>0.26</td>\n",
       "      <td>0.280</td>\n",
       "      <td>0</td>\n",
       "      <td>186</td>\n",
       "      <td>No_Skewness</td>\n",
       "    </tr>\n",
       "    <tr>\n",
       "      <th>citric acid</th>\n",
       "      <td>citric.acid</td>\n",
       "      <td>87</td>\n",
       "      <td>1.66</td>\n",
       "      <td>0.000</td>\n",
       "      <td>0.12</td>\n",
       "      <td>0.01</td>\n",
       "      <td>0.33</td>\n",
       "      <td>0.32</td>\n",
       "      <td>0.300</td>\n",
       "      <td>0</td>\n",
       "      <td>270</td>\n",
       "      <td>No_Skewness</td>\n",
       "    </tr>\n",
       "    <tr>\n",
       "      <th>residual sugar</th>\n",
       "      <td>residual.sugar</td>\n",
       "      <td>310</td>\n",
       "      <td>65.80</td>\n",
       "      <td>0.600</td>\n",
       "      <td>5.07</td>\n",
       "      <td>25.73</td>\n",
       "      <td>6.39</td>\n",
       "      <td>5.20</td>\n",
       "      <td>1.200</td>\n",
       "      <td>0</td>\n",
       "      <td>7</td>\n",
       "      <td>No_Skewness</td>\n",
       "    </tr>\n",
       "    <tr>\n",
       "      <th>chlorides</th>\n",
       "      <td>chlorides</td>\n",
       "      <td>160</td>\n",
       "      <td>0.35</td>\n",
       "      <td>0.009</td>\n",
       "      <td>0.02</td>\n",
       "      <td>0.00</td>\n",
       "      <td>0.05</td>\n",
       "      <td>0.04</td>\n",
       "      <td>0.044</td>\n",
       "      <td>0</td>\n",
       "      <td>212</td>\n",
       "      <td>No_Skewness</td>\n",
       "    </tr>\n",
       "  </tbody>\n",
       "</table>\n",
       "</div>"
      ],
      "text/plain": [
       "                           Columns  Unique    Max    Min   Std    Var  Mean  \\\n",
       "fixed acidity        fixed.acidity      68  14.20  3.800  0.84   0.71  6.85   \n",
       "volatile acidity  volatile.acidity     125   1.10  0.080  0.10   0.01  0.28   \n",
       "citric acid            citric.acid      87   1.66  0.000  0.12   0.01  0.33   \n",
       "residual sugar      residual.sugar     310  65.80  0.600  5.07  25.73  6.39   \n",
       "chlorides                chlorides     160   0.35  0.009  0.02   0.00  0.05   \n",
       "\n",
       "                  Median   Mode  Null_Values  Outliers          Skew  \n",
       "fixed acidity       6.80  6.800            0       119  Right_Skewed  \n",
       "volatile acidity    0.26  0.280            0       186   No_Skewness  \n",
       "citric acid         0.32  0.300            0       270   No_Skewness  \n",
       "residual sugar      5.20  1.200            0         7   No_Skewness  \n",
       "chlorides           0.04  0.044            0       212   No_Skewness  "
      ]
     },
     "execution_count": 387,
     "metadata": {},
     "output_type": "execute_result"
    }
   ],
   "source": [
    "final_data.head()"
   ]
  },
  {
   "cell_type": "code",
   "execution_count": 46,
   "metadata": {},
   "outputs": [],
   "source": [
    "def get_suggestions(col):\n",
    "    suggestion = \"\"\n",
    "    if col['Outliers'] >=  (outlier_values.sum()*5)/100:\n",
    "        suggestion+= \"Noisy data\"\n",
    "    if col['Null_Values'] > (missing_values.sum()*5)/100:\n",
    "        suggestion += \" More missing values\"\n",
    "    if suggestion == \"\":\n",
    "        suggestion = \"Column is good to go\"\n",
    "    return suggestion\n",
    "final_data['suggestions'] = final_data.apply(lambda col:get_suggestions(col),axis=1)"
   ]
  },
  {
   "cell_type": "code",
   "execution_count": 47,
   "metadata": {},
   "outputs": [
    {
     "data": {
      "text/plain": [
       "fixed acidity                     Noisy data\n",
       "volatile acidity                  Noisy data\n",
       "citric acid                       Noisy data\n",
       "residual sugar          Column is good to go\n",
       "chlorides                         Noisy data\n",
       "free sulfur dioxide     Column is good to go\n",
       "total sulfur dioxide    Column is good to go\n",
       "density                 Column is good to go\n",
       "pH                                Noisy data\n",
       "sulphates                         Noisy data\n",
       "alcohol                 Column is good to go\n",
       "quality                           Noisy data\n",
       "Name: suggestions, dtype: object"
      ]
     },
     "execution_count": 47,
     "metadata": {},
     "output_type": "execute_result"
    }
   ],
   "source": [
    "final_data[\"suggestions\"]"
   ]
  },
  {
   "cell_type": "code",
   "execution_count": 38,
   "metadata": {},
   "outputs": [],
   "source": [
    "def get_suggestions_for_target_class(data,column):\n",
    "    suggestion = \"\"\n",
    "    values_count = data[column].value_counts()\n",
    "    percentage_of_value_count_list = list((values_count/4898)*100) #total number of records = 4898 as per data.shape\n",
    "    percentage_of_value_count = (values_count/4898)*100\n",
    "    threshold_classes = (100/data[column].nunique())*0.8\n",
    "    result = []\n",
    "    imbalance_classes = []\n",
    "    for i in range(len(percentage_of_value_count_list)):\n",
    "        if percentage_of_value_count_list[i] < threshold_classes:\n",
    "            result.append([\"Imbalanced_Class\",percentage_of_value_count_list[i],percentage_of_value_count.index[i]])\n",
    "            imbalance_classes.append(percentage_of_value_count.index[i])\n",
    "        else:\n",
    "            result.append([\"Balanced_Class\",percentage_of_value_count_list[i],percentage_of_value_count.index[i]])\n",
    "    if len(imbalance_classes) == 0:\n",
    "        suggestion = \"Column is good to go\"\n",
    "    else:\n",
    "        imbalance_classes = [str(i) for i in imbalance_classes]\n",
    "        suggestion = \"Classes \"+str(' '.join(imbalance_classes))+\" have less number of records\"\n",
    "    return suggestion"
   ]
  },
  {
   "cell_type": "code",
   "execution_count": 39,
   "metadata": {},
   "outputs": [
    {
     "name": "stderr",
     "output_type": "stream",
     "text": [
      "C:\\Users\\nishanth\\Anaconda3\\lib\\site-packages\\ipykernel_launcher.py:2: SettingWithCopyWarning: \n",
      "A value is trying to be set on a copy of a slice from a DataFrame\n",
      "\n",
      "See the caveats in the documentation: http://pandas.pydata.org/pandas-docs/stable/indexing.html#indexing-view-versus-copy\n",
      "  \n"
     ]
    }
   ],
   "source": [
    "target_col = \"quality\"\n",
    "final_data['suggestions'][target_col] = get_suggestions_for_target_class(data,target_col)"
   ]
  },
  {
   "cell_type": "code",
   "execution_count": 40,
   "metadata": {},
   "outputs": [
    {
     "data": {
      "text/plain": [
       "0       6\n",
       "1       6\n",
       "2       6\n",
       "3       6\n",
       "4       6\n",
       "5       6\n",
       "6       6\n",
       "7       6\n",
       "8       6\n",
       "9       6\n",
       "10      5\n",
       "11      5\n",
       "12      5\n",
       "13      7\n",
       "14      5\n",
       "15      7\n",
       "16      6\n",
       "17      8\n",
       "18      6\n",
       "19      5\n",
       "20      8\n",
       "21      7\n",
       "22      8\n",
       "23      5\n",
       "24      6\n",
       "25      6\n",
       "26      6\n",
       "27      6\n",
       "28      6\n",
       "29      7\n",
       "       ..\n",
       "4868    6\n",
       "4869    6\n",
       "4870    7\n",
       "4871    6\n",
       "4872    5\n",
       "4873    6\n",
       "4874    6\n",
       "4875    6\n",
       "4876    7\n",
       "4877    5\n",
       "4878    4\n",
       "4879    6\n",
       "4880    6\n",
       "4881    6\n",
       "4882    5\n",
       "4883    6\n",
       "4884    5\n",
       "4885    6\n",
       "4886    7\n",
       "4887    7\n",
       "4888    5\n",
       "4889    6\n",
       "4890    6\n",
       "4891    6\n",
       "4892    5\n",
       "4893    6\n",
       "4894    5\n",
       "4895    6\n",
       "4896    7\n",
       "4897    6\n",
       "Name: quality, Length: 4898, dtype: int64"
      ]
     },
     "execution_count": 40,
     "metadata": {},
     "output_type": "execute_result"
    }
   ],
   "source": [
    "data[target_col]"
   ]
  },
  {
   "cell_type": "code",
   "execution_count": 41,
   "metadata": {},
   "outputs": [
    {
     "name": "stderr",
     "output_type": "stream",
     "text": [
      "C:\\Users\\nishanth\\Anaconda3\\lib\\site-packages\\pandas\\core\\generic.py:5096: SettingWithCopyWarning: \n",
      "A value is trying to be set on a copy of a slice from a DataFrame\n",
      "\n",
      "See the caveats in the documentation: http://pandas.pydata.org/pandas-docs/stable/indexing.html#indexing-view-versus-copy\n",
      "  self[name] = value\n"
     ]
    }
   ],
   "source": [
    "final_data['suggestions'].quality  = str(get_imbalanced_classes(data,columns='quality'))"
   ]
  },
  {
   "cell_type": "code",
   "execution_count": 42,
   "metadata": {},
   "outputs": [
    {
     "data": {
      "text/plain": [
       "\"[['Balanced_Class', 44.87545937117191, 6], ['Balanced_Class', 29.746835443037973, 5], ['Balanced_Class', 17.966516945692117, 7], ['Imbalanced_Class', 3.5728868926092283, 8], ['Imbalanced_Class', 3.327888934258881, 4], ['Imbalanced_Class', 0.4083299305839118, 3], ['Imbalanced_Class', 0.10208248264597795, 9]]\""
      ]
     },
     "execution_count": 42,
     "metadata": {},
     "output_type": "execute_result"
    }
   ],
   "source": [
    "final_data['suggestions']['quality']"
   ]
  },
  {
   "cell_type": "code",
   "execution_count": 43,
   "metadata": {},
   "outputs": [
    {
     "data": {
      "text/html": [
       "<div>\n",
       "<style scoped>\n",
       "    .dataframe tbody tr th:only-of-type {\n",
       "        vertical-align: middle;\n",
       "    }\n",
       "\n",
       "    .dataframe tbody tr th {\n",
       "        vertical-align: top;\n",
       "    }\n",
       "\n",
       "    .dataframe thead th {\n",
       "        text-align: right;\n",
       "    }\n",
       "</style>\n",
       "<table border=\"1\" class=\"dataframe\">\n",
       "  <thead>\n",
       "    <tr style=\"text-align: right;\">\n",
       "      <th></th>\n",
       "      <th>Columns</th>\n",
       "      <th>Unique</th>\n",
       "      <th>Max</th>\n",
       "      <th>Min</th>\n",
       "      <th>Std</th>\n",
       "      <th>Var</th>\n",
       "      <th>Mean</th>\n",
       "      <th>Median</th>\n",
       "      <th>Mode</th>\n",
       "      <th>Null_Values</th>\n",
       "      <th>Outliers</th>\n",
       "      <th>Skew</th>\n",
       "      <th>suggestions</th>\n",
       "    </tr>\n",
       "  </thead>\n",
       "  <tbody>\n",
       "    <tr>\n",
       "      <th>fixed acidity</th>\n",
       "      <td>fixed.acidity</td>\n",
       "      <td>68</td>\n",
       "      <td>14.20</td>\n",
       "      <td>3.80000</td>\n",
       "      <td>0.84</td>\n",
       "      <td>0.71</td>\n",
       "      <td>6.85</td>\n",
       "      <td>6.80</td>\n",
       "      <td>6.800</td>\n",
       "      <td>0</td>\n",
       "      <td>119</td>\n",
       "      <td>Right_Skewed</td>\n",
       "      <td>Noisy data</td>\n",
       "    </tr>\n",
       "    <tr>\n",
       "      <th>volatile acidity</th>\n",
       "      <td>volatile.acidity</td>\n",
       "      <td>125</td>\n",
       "      <td>1.10</td>\n",
       "      <td>0.08000</td>\n",
       "      <td>0.10</td>\n",
       "      <td>0.01</td>\n",
       "      <td>0.28</td>\n",
       "      <td>0.26</td>\n",
       "      <td>0.280</td>\n",
       "      <td>0</td>\n",
       "      <td>186</td>\n",
       "      <td>No_Skewness</td>\n",
       "      <td>Noisy data</td>\n",
       "    </tr>\n",
       "    <tr>\n",
       "      <th>citric acid</th>\n",
       "      <td>citric.acid</td>\n",
       "      <td>87</td>\n",
       "      <td>1.66</td>\n",
       "      <td>0.00000</td>\n",
       "      <td>0.12</td>\n",
       "      <td>0.01</td>\n",
       "      <td>0.33</td>\n",
       "      <td>0.32</td>\n",
       "      <td>0.300</td>\n",
       "      <td>0</td>\n",
       "      <td>270</td>\n",
       "      <td>No_Skewness</td>\n",
       "      <td>Noisy data</td>\n",
       "    </tr>\n",
       "    <tr>\n",
       "      <th>residual sugar</th>\n",
       "      <td>residual.sugar</td>\n",
       "      <td>310</td>\n",
       "      <td>65.80</td>\n",
       "      <td>0.60000</td>\n",
       "      <td>5.07</td>\n",
       "      <td>25.73</td>\n",
       "      <td>6.39</td>\n",
       "      <td>5.20</td>\n",
       "      <td>1.200</td>\n",
       "      <td>0</td>\n",
       "      <td>7</td>\n",
       "      <td>No_Skewness</td>\n",
       "      <td>Column is good to go</td>\n",
       "    </tr>\n",
       "    <tr>\n",
       "      <th>chlorides</th>\n",
       "      <td>chlorides</td>\n",
       "      <td>160</td>\n",
       "      <td>0.35</td>\n",
       "      <td>0.00900</td>\n",
       "      <td>0.02</td>\n",
       "      <td>0.00</td>\n",
       "      <td>0.05</td>\n",
       "      <td>0.04</td>\n",
       "      <td>0.044</td>\n",
       "      <td>0</td>\n",
       "      <td>212</td>\n",
       "      <td>No_Skewness</td>\n",
       "      <td>Noisy data</td>\n",
       "    </tr>\n",
       "    <tr>\n",
       "      <th>free sulfur dioxide</th>\n",
       "      <td>free.sulfur.dioxide</td>\n",
       "      <td>132</td>\n",
       "      <td>289.00</td>\n",
       "      <td>2.00000</td>\n",
       "      <td>17.01</td>\n",
       "      <td>289.24</td>\n",
       "      <td>35.31</td>\n",
       "      <td>34.00</td>\n",
       "      <td>29.000</td>\n",
       "      <td>0</td>\n",
       "      <td>50</td>\n",
       "      <td>No_Skewness</td>\n",
       "      <td>Column is good to go</td>\n",
       "    </tr>\n",
       "    <tr>\n",
       "      <th>total sulfur dioxide</th>\n",
       "      <td>total.sulfur.dioxide</td>\n",
       "      <td>251</td>\n",
       "      <td>440.00</td>\n",
       "      <td>9.00000</td>\n",
       "      <td>42.50</td>\n",
       "      <td>1806.09</td>\n",
       "      <td>138.36</td>\n",
       "      <td>134.00</td>\n",
       "      <td>111.000</td>\n",
       "      <td>0</td>\n",
       "      <td>19</td>\n",
       "      <td>Left_Skewed</td>\n",
       "      <td>Column is good to go</td>\n",
       "    </tr>\n",
       "    <tr>\n",
       "      <th>density</th>\n",
       "      <td>density</td>\n",
       "      <td>890</td>\n",
       "      <td>1.04</td>\n",
       "      <td>0.98711</td>\n",
       "      <td>0.00</td>\n",
       "      <td>0.00</td>\n",
       "      <td>0.99</td>\n",
       "      <td>0.99</td>\n",
       "      <td>0.992</td>\n",
       "      <td>0</td>\n",
       "      <td>5</td>\n",
       "      <td>Right_Skewed</td>\n",
       "      <td>Column is good to go</td>\n",
       "    </tr>\n",
       "    <tr>\n",
       "      <th>pH</th>\n",
       "      <td>pH</td>\n",
       "      <td>103</td>\n",
       "      <td>3.82</td>\n",
       "      <td>2.72000</td>\n",
       "      <td>0.15</td>\n",
       "      <td>0.02</td>\n",
       "      <td>3.19</td>\n",
       "      <td>3.18</td>\n",
       "      <td>3.140</td>\n",
       "      <td>0</td>\n",
       "      <td>75</td>\n",
       "      <td>Left_Skewed</td>\n",
       "      <td>Noisy data</td>\n",
       "    </tr>\n",
       "    <tr>\n",
       "      <th>sulphates</th>\n",
       "      <td>sulphates</td>\n",
       "      <td>79</td>\n",
       "      <td>1.08</td>\n",
       "      <td>0.22000</td>\n",
       "      <td>0.11</td>\n",
       "      <td>0.01</td>\n",
       "      <td>0.49</td>\n",
       "      <td>0.47</td>\n",
       "      <td>0.500</td>\n",
       "      <td>0</td>\n",
       "      <td>124</td>\n",
       "      <td>Right_Skewed</td>\n",
       "      <td>Noisy data</td>\n",
       "    </tr>\n",
       "    <tr>\n",
       "      <th>alcohol</th>\n",
       "      <td>alcohol</td>\n",
       "      <td>103</td>\n",
       "      <td>14.20</td>\n",
       "      <td>8.00000</td>\n",
       "      <td>1.23</td>\n",
       "      <td>1.51</td>\n",
       "      <td>10.51</td>\n",
       "      <td>10.40</td>\n",
       "      <td>9.400</td>\n",
       "      <td>0</td>\n",
       "      <td>0</td>\n",
       "      <td>Left_Skewed</td>\n",
       "      <td>Column is good to go</td>\n",
       "    </tr>\n",
       "    <tr>\n",
       "      <th>quality</th>\n",
       "      <td>quality</td>\n",
       "      <td>7</td>\n",
       "      <td>9.00</td>\n",
       "      <td>3.00000</td>\n",
       "      <td>0.89</td>\n",
       "      <td>0.78</td>\n",
       "      <td>5.88</td>\n",
       "      <td>6.00</td>\n",
       "      <td>6.000</td>\n",
       "      <td>0</td>\n",
       "      <td>200</td>\n",
       "      <td>Left_Skewed</td>\n",
       "      <td>[['Balanced_Class', 44.87545937117191, 6], ['B...</td>\n",
       "    </tr>\n",
       "  </tbody>\n",
       "</table>\n",
       "</div>"
      ],
      "text/plain": [
       "                                   Columns  Unique     Max      Min    Std  \\\n",
       "fixed acidity                fixed.acidity      68   14.20  3.80000   0.84   \n",
       "volatile acidity          volatile.acidity     125    1.10  0.08000   0.10   \n",
       "citric acid                    citric.acid      87    1.66  0.00000   0.12   \n",
       "residual sugar              residual.sugar     310   65.80  0.60000   5.07   \n",
       "chlorides                        chlorides     160    0.35  0.00900   0.02   \n",
       "free sulfur dioxide    free.sulfur.dioxide     132  289.00  2.00000  17.01   \n",
       "total sulfur dioxide  total.sulfur.dioxide     251  440.00  9.00000  42.50   \n",
       "density                            density     890    1.04  0.98711   0.00   \n",
       "pH                                      pH     103    3.82  2.72000   0.15   \n",
       "sulphates                        sulphates      79    1.08  0.22000   0.11   \n",
       "alcohol                            alcohol     103   14.20  8.00000   1.23   \n",
       "quality                            quality       7    9.00  3.00000   0.89   \n",
       "\n",
       "                          Var    Mean  Median     Mode  Null_Values  Outliers  \\\n",
       "fixed acidity            0.71    6.85    6.80    6.800            0       119   \n",
       "volatile acidity         0.01    0.28    0.26    0.280            0       186   \n",
       "citric acid              0.01    0.33    0.32    0.300            0       270   \n",
       "residual sugar          25.73    6.39    5.20    1.200            0         7   \n",
       "chlorides                0.00    0.05    0.04    0.044            0       212   \n",
       "free sulfur dioxide    289.24   35.31   34.00   29.000            0        50   \n",
       "total sulfur dioxide  1806.09  138.36  134.00  111.000            0        19   \n",
       "density                  0.00    0.99    0.99    0.992            0         5   \n",
       "pH                       0.02    3.19    3.18    3.140            0        75   \n",
       "sulphates                0.01    0.49    0.47    0.500            0       124   \n",
       "alcohol                  1.51   10.51   10.40    9.400            0         0   \n",
       "quality                  0.78    5.88    6.00    6.000            0       200   \n",
       "\n",
       "                              Skew  \\\n",
       "fixed acidity         Right_Skewed   \n",
       "volatile acidity       No_Skewness   \n",
       "citric acid            No_Skewness   \n",
       "residual sugar         No_Skewness   \n",
       "chlorides              No_Skewness   \n",
       "free sulfur dioxide    No_Skewness   \n",
       "total sulfur dioxide   Left_Skewed   \n",
       "density               Right_Skewed   \n",
       "pH                     Left_Skewed   \n",
       "sulphates             Right_Skewed   \n",
       "alcohol                Left_Skewed   \n",
       "quality                Left_Skewed   \n",
       "\n",
       "                                                            suggestions  \n",
       "fixed acidity                                                Noisy data  \n",
       "volatile acidity                                             Noisy data  \n",
       "citric acid                                                  Noisy data  \n",
       "residual sugar                                     Column is good to go  \n",
       "chlorides                                                    Noisy data  \n",
       "free sulfur dioxide                                Column is good to go  \n",
       "total sulfur dioxide                               Column is good to go  \n",
       "density                                            Column is good to go  \n",
       "pH                                                           Noisy data  \n",
       "sulphates                                                    Noisy data  \n",
       "alcohol                                            Column is good to go  \n",
       "quality               [['Balanced_Class', 44.87545937117191, 6], ['B...  "
      ]
     },
     "execution_count": 43,
     "metadata": {},
     "output_type": "execute_result"
    }
   ],
   "source": [
    "final_data"
   ]
  },
  {
   "cell_type": "code",
   "execution_count": null,
   "metadata": {},
   "outputs": [],
   "source": []
  }
 ],
 "metadata": {
  "kernelspec": {
   "display_name": "Python 3",
   "language": "python",
   "name": "python3"
  },
  "language_info": {
   "codemirror_mode": {
    "name": "ipython",
    "version": 3
   },
   "file_extension": ".py",
   "mimetype": "text/x-python",
   "name": "python",
   "nbconvert_exporter": "python",
   "pygments_lexer": "ipython3",
   "version": "3.7.3"
  }
 },
 "nbformat": 4,
 "nbformat_minor": 4
}
